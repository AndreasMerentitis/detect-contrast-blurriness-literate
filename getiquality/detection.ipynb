{
 "cells": [
  {
   "cell_type": "code",
   "execution_count": 1,
   "metadata": {},
   "outputs": [],
   "source": [
    "# default_exp export\n",
    "# default_cls_lvl 3\n"
   ]
  },
  {
   "cell_type": "code",
   "execution_count": 2,
   "metadata": {},
   "outputs": [],
   "source": [
    "#export \n",
    "\n",
    "import logging\n",
    "\n",
    "import cv2\n",
    "import numpy as np\n",
    "\n",
    "from skimage.color import rgb2gray\n",
    "from skimage.util.dtype import dtype_range, dtype_limits\n",
    "from skimage._shared.utils import warn"
   ]
  },
  {
   "cell_type": "code",
   "execution_count": 3,
   "metadata": {},
   "outputs": [],
   "source": [
    "from nbdev.export import *"
   ]
  },
  {
   "cell_type": "code",
   "execution_count": 4,
   "metadata": {},
   "outputs": [],
   "source": [
    "#export \n",
    "def fix_image_size(image, expected_pixels=2E6):\n",
    "    ratio = float(expected_pixels) / float(image.shape[0] * image.shape[1])\n",
    "    return cv2.resize(image, (0, 0), fx=ratio, fy=ratio)"
   ]
  },
  {
   "cell_type": "code",
   "execution_count": 5,
   "metadata": {},
   "outputs": [],
   "source": [
    "#export\n",
    "def estimate_blur(image, threshold=100):\n",
    "    if image.ndim == 3:\n",
    "        image = cv2.cvtColor(image, cv2.COLOR_BGR2GRAY)\n",
    "\n",
    "    blur_map = cv2.Laplacian(image, cv2.CV_64F)\n",
    "    score = np.var(blur_map)\n",
    "    return blur_map, score, bool(score < threshold)"
   ]
  },
  {
   "cell_type": "code",
   "execution_count": 6,
   "metadata": {},
   "outputs": [],
   "source": [
    "#export\n",
    "def pretty_blur_map(blur_map, sigma=5):\n",
    "    abs_image = np.log(np.abs(blur_map).astype(np.float32))\n",
    "    cv2.blur(abs_image, (sigma, sigma))\n",
    "    return cv2.medianBlur(abs_image, sigma)"
   ]
  },
  {
   "cell_type": "code",
   "execution_count": 7,
   "metadata": {},
   "outputs": [],
   "source": [
    "#export\n",
    "def check_contrast(image, fraction_threshold=0.20, lower_percentile=1,\n",
    "                    upper_percentile=99, method='linear'):\n",
    "    \"\"\"Detemine if an image is low contrast.\n",
    "    Parameters\n",
    "    ----------\n",
    "    image : array-like\n",
    "        The image under test.\n",
    "    fraction_threshold : float, optional\n",
    "        The low contrast fraction threshold. An image is considered low-\n",
    "        contrast when its range of brightness spans less than this\n",
    "        fraction of its data type's full range. [1]_\n",
    "    lower_percentile : float, optional\n",
    "        Disregard values below this percentile when computing image contrast.\n",
    "    upper_percentile : float, optional\n",
    "        Disregard values above this percentile when computing image contrast.\n",
    "    method : str, optional\n",
    "        The contrast determination method.  Right now the only available\n",
    "        option is \"linear\".\n",
    "    Returns\n",
    "    -------\n",
    "    out : bool\n",
    "        True when the image is determined to be low contrast.\n",
    "    References\n",
    "    ----------\n",
    "    .. [1] http://scikit-image.org/docs/dev/user_guide/data_types.html\n",
    "    Examples\n",
    "    --------\n",
    "    >>> image = np.linspace(0, 0.04, 100)\n",
    "    >>> is_low_contrast(image)\n",
    "    True\n",
    "    >>> image[-1] = 1\n",
    "    >>> is_low_contrast(image)\n",
    "    True\n",
    "    >>> is_low_contrast(image, upper_percentile=100)\n",
    "    False\n",
    "    \"\"\"\n",
    "\n",
    "    image = np.asanyarray(image)\n",
    "    if image.ndim == 3 and image.shape[2] in [3, 4]:\n",
    "        image = rgb2gray(image)\n",
    "\n",
    "\n",
    "    dlimits = dtype_limits(image, clip_negative=False)\n",
    "    limits = np.percentile(image, [lower_percentile, upper_percentile])\n",
    "    ratio = (limits[1] - limits[0]) / (dlimits[1] - dlimits[0])\n",
    "\n",
    "    return ratio, ratio < fraction_threshold"
   ]
  },
  {
   "cell_type": "code",
   "execution_count": 8,
   "metadata": {},
   "outputs": [
    {
     "name": "stdout",
     "output_type": "stream",
     "text": [
      "Converted detection.ipynb.\n"
     ]
    }
   ],
   "source": [
    "#hide\n",
    "notebook2script()"
   ]
  },
  {
   "cell_type": "code",
   "execution_count": 9,
   "metadata": {},
   "outputs": [
    {
     "name": "stdout",
     "output_type": "stream",
     "text": [
      "Converted detection.ipynb.\n"
     ]
    }
   ],
   "source": [
    "#hide\n",
    "notebook2script('detection.ipynb')"
   ]
  },
  {
   "cell_type": "code",
   "execution_count": null,
   "metadata": {},
   "outputs": [],
   "source": []
  },
  {
   "cell_type": "code",
   "execution_count": null,
   "metadata": {},
   "outputs": [],
   "source": []
  },
  {
   "cell_type": "code",
   "execution_count": null,
   "metadata": {},
   "outputs": [],
   "source": []
  },
  {
   "cell_type": "code",
   "execution_count": null,
   "metadata": {},
   "outputs": [],
   "source": []
  },
  {
   "cell_type": "code",
   "execution_count": null,
   "metadata": {},
   "outputs": [],
   "source": []
  }
 ],
 "metadata": {
  "kernelspec": {
   "display_name": "Python 3",
   "language": "python",
   "name": "python3"
  },
  "language_info": {
   "codemirror_mode": {
    "name": "ipython",
    "version": 3
   },
   "file_extension": ".py",
   "mimetype": "text/x-python",
   "name": "python",
   "nbconvert_exporter": "python",
   "pygments_lexer": "ipython3",
   "version": "3.8.0"
  }
 },
 "nbformat": 4,
 "nbformat_minor": 4
}
